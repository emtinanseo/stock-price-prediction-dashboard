{
 "cells": [
  {
   "cell_type": "code",
   "execution_count": 28,
   "metadata": {},
   "outputs": [],
   "source": [
    "import yfinance as yf\n",
    "from datetime import datetime, timedelta"
   ]
  },
  {
   "cell_type": "code",
   "execution_count": 53,
   "metadata": {},
   "outputs": [
    {
     "name": "stderr",
     "output_type": "stream",
     "text": [
      "[*********************100%***********************]  1 of 1 completed\n"
     ]
    }
   ],
   "source": [
    "data = yf.download('AAPL', start=\"2025-02-01\", end=\"2025-02-10\")"
   ]
  },
  {
   "cell_type": "code",
   "execution_count": 42,
   "metadata": {},
   "outputs": [
    {
     "data": {
      "text/html": [
       "<div>\n",
       "<style scoped>\n",
       "    .dataframe tbody tr th:only-of-type {\n",
       "        vertical-align: middle;\n",
       "    }\n",
       "\n",
       "    .dataframe tbody tr th {\n",
       "        vertical-align: top;\n",
       "    }\n",
       "\n",
       "    .dataframe thead tr th {\n",
       "        text-align: left;\n",
       "    }\n",
       "\n",
       "    .dataframe thead tr:last-of-type th {\n",
       "        text-align: right;\n",
       "    }\n",
       "</style>\n",
       "<table border=\"1\" class=\"dataframe\">\n",
       "  <thead>\n",
       "    <tr>\n",
       "      <th>Price</th>\n",
       "      <th>Close</th>\n",
       "      <th>High</th>\n",
       "      <th>Low</th>\n",
       "      <th>Open</th>\n",
       "      <th>Volume</th>\n",
       "    </tr>\n",
       "    <tr>\n",
       "      <th>Ticker</th>\n",
       "      <th>AAPL</th>\n",
       "      <th>AAPL</th>\n",
       "      <th>AAPL</th>\n",
       "      <th>AAPL</th>\n",
       "      <th>AAPL</th>\n",
       "    </tr>\n",
       "    <tr>\n",
       "      <th>Date</th>\n",
       "      <th></th>\n",
       "      <th></th>\n",
       "      <th></th>\n",
       "      <th></th>\n",
       "      <th></th>\n",
       "    </tr>\n",
       "  </thead>\n",
       "  <tbody>\n",
       "    <tr>\n",
       "      <th>2025-02-03</th>\n",
       "      <td>227.759583</td>\n",
       "      <td>231.575395</td>\n",
       "      <td>225.452122</td>\n",
       "      <td>229.737419</td>\n",
       "      <td>73063300</td>\n",
       "    </tr>\n",
       "    <tr>\n",
       "      <th>2025-02-04</th>\n",
       "      <td>232.544327</td>\n",
       "      <td>232.873966</td>\n",
       "      <td>226.401072</td>\n",
       "      <td>227.000419</td>\n",
       "      <td>45067300</td>\n",
       "    </tr>\n",
       "    <tr>\n",
       "      <th>2025-02-05</th>\n",
       "      <td>232.214691</td>\n",
       "      <td>232.414468</td>\n",
       "      <td>228.019307</td>\n",
       "      <td>228.279016</td>\n",
       "      <td>39620300</td>\n",
       "    </tr>\n",
       "    <tr>\n",
       "      <th>2025-02-06</th>\n",
       "      <td>232.963867</td>\n",
       "      <td>233.543232</td>\n",
       "      <td>230.176923</td>\n",
       "      <td>231.035979</td>\n",
       "      <td>29925300</td>\n",
       "    </tr>\n",
       "    <tr>\n",
       "      <th>2025-02-07</th>\n",
       "      <td>227.380005</td>\n",
       "      <td>233.743004</td>\n",
       "      <td>227.010401</td>\n",
       "      <td>232.344548</td>\n",
       "      <td>39707200</td>\n",
       "    </tr>\n",
       "  </tbody>\n",
       "</table>\n",
       "</div>"
      ],
      "text/plain": [
       "Price            Close        High         Low        Open    Volume\n",
       "Ticker            AAPL        AAPL        AAPL        AAPL      AAPL\n",
       "Date                                                                \n",
       "2025-02-03  227.759583  231.575395  225.452122  229.737419  73063300\n",
       "2025-02-04  232.544327  232.873966  226.401072  227.000419  45067300\n",
       "2025-02-05  232.214691  232.414468  228.019307  228.279016  39620300\n",
       "2025-02-06  232.963867  233.543232  230.176923  231.035979  29925300\n",
       "2025-02-07  227.380005  233.743004  227.010401  232.344548  39707200"
      ]
     },
     "execution_count": 42,
     "metadata": {},
     "output_type": "execute_result"
    }
   ],
   "source": [
    "data"
   ]
  },
  {
   "cell_type": "code",
   "execution_count": 54,
   "metadata": {},
   "outputs": [],
   "source": [
    "data = data.droplevel(\"Ticker\", axis=1)"
   ]
  },
  {
   "cell_type": "code",
   "execution_count": 55,
   "metadata": {},
   "outputs": [],
   "source": [
    "data['Date'] = data.index"
   ]
  },
  {
   "cell_type": "code",
   "execution_count": 56,
   "metadata": {},
   "outputs": [
    {
     "data": {
      "text/html": [
       "<div>\n",
       "<style scoped>\n",
       "    .dataframe tbody tr th:only-of-type {\n",
       "        vertical-align: middle;\n",
       "    }\n",
       "\n",
       "    .dataframe tbody tr th {\n",
       "        vertical-align: top;\n",
       "    }\n",
       "\n",
       "    .dataframe thead th {\n",
       "        text-align: right;\n",
       "    }\n",
       "</style>\n",
       "<table border=\"1\" class=\"dataframe\">\n",
       "  <thead>\n",
       "    <tr style=\"text-align: right;\">\n",
       "      <th>Price</th>\n",
       "      <th>Close</th>\n",
       "      <th>High</th>\n",
       "      <th>Low</th>\n",
       "      <th>Open</th>\n",
       "      <th>Volume</th>\n",
       "      <th>Date</th>\n",
       "    </tr>\n",
       "    <tr>\n",
       "      <th>Date</th>\n",
       "      <th></th>\n",
       "      <th></th>\n",
       "      <th></th>\n",
       "      <th></th>\n",
       "      <th></th>\n",
       "      <th></th>\n",
       "    </tr>\n",
       "  </thead>\n",
       "  <tbody>\n",
       "    <tr>\n",
       "      <th>2025-02-03</th>\n",
       "      <td>227.759583</td>\n",
       "      <td>231.575395</td>\n",
       "      <td>225.452122</td>\n",
       "      <td>229.737419</td>\n",
       "      <td>73063300</td>\n",
       "      <td>2025-02-03</td>\n",
       "    </tr>\n",
       "    <tr>\n",
       "      <th>2025-02-04</th>\n",
       "      <td>232.544327</td>\n",
       "      <td>232.873966</td>\n",
       "      <td>226.401072</td>\n",
       "      <td>227.000419</td>\n",
       "      <td>45067300</td>\n",
       "      <td>2025-02-04</td>\n",
       "    </tr>\n",
       "    <tr>\n",
       "      <th>2025-02-05</th>\n",
       "      <td>232.214691</td>\n",
       "      <td>232.414468</td>\n",
       "      <td>228.019307</td>\n",
       "      <td>228.279016</td>\n",
       "      <td>39620300</td>\n",
       "      <td>2025-02-05</td>\n",
       "    </tr>\n",
       "    <tr>\n",
       "      <th>2025-02-06</th>\n",
       "      <td>232.963867</td>\n",
       "      <td>233.543232</td>\n",
       "      <td>230.176923</td>\n",
       "      <td>231.035979</td>\n",
       "      <td>29925300</td>\n",
       "      <td>2025-02-06</td>\n",
       "    </tr>\n",
       "    <tr>\n",
       "      <th>2025-02-07</th>\n",
       "      <td>227.380005</td>\n",
       "      <td>233.743004</td>\n",
       "      <td>227.010401</td>\n",
       "      <td>232.344548</td>\n",
       "      <td>39707200</td>\n",
       "      <td>2025-02-07</td>\n",
       "    </tr>\n",
       "  </tbody>\n",
       "</table>\n",
       "</div>"
      ],
      "text/plain": [
       "Price            Close        High         Low        Open    Volume  \\\n",
       "Date                                                                   \n",
       "2025-02-03  227.759583  231.575395  225.452122  229.737419  73063300   \n",
       "2025-02-04  232.544327  232.873966  226.401072  227.000419  45067300   \n",
       "2025-02-05  232.214691  232.414468  228.019307  228.279016  39620300   \n",
       "2025-02-06  232.963867  233.543232  230.176923  231.035979  29925300   \n",
       "2025-02-07  227.380005  233.743004  227.010401  232.344548  39707200   \n",
       "\n",
       "Price            Date  \n",
       "Date                   \n",
       "2025-02-03 2025-02-03  \n",
       "2025-02-04 2025-02-04  \n",
       "2025-02-05 2025-02-05  \n",
       "2025-02-06 2025-02-06  \n",
       "2025-02-07 2025-02-07  "
      ]
     },
     "execution_count": 56,
     "metadata": {},
     "output_type": "execute_result"
    }
   ],
   "source": [
    "data"
   ]
  },
  {
   "cell_type": "code",
   "execution_count": 47,
   "metadata": {},
   "outputs": [],
   "source": [
    "data.reset_index(drop=True, inplace=True)"
   ]
  }
 ],
 "metadata": {
  "kernelspec": {
   "display_name": "env",
   "language": "python",
   "name": "python3"
  },
  "language_info": {
   "codemirror_mode": {
    "name": "ipython",
    "version": 3
   },
   "file_extension": ".py",
   "mimetype": "text/x-python",
   "name": "python",
   "nbconvert_exporter": "python",
   "pygments_lexer": "ipython3",
   "version": "3.12.3"
  }
 },
 "nbformat": 4,
 "nbformat_minor": 2
}
